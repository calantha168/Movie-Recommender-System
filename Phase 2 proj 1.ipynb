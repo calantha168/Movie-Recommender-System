{
 "cells": [
  {
   "cell_type": "markdown",
   "id": "39fc4f39-5e7c-47e2-8423-baacf6a40d91",
   "metadata": {},
   "source": [
    "PHASE 2"
   ]
  },
  {
   "cell_type": "code",
   "execution_count": 1,
   "id": "e7ecdb73-f4c3-4299-b7ae-159df3f1078e",
   "metadata": {},
   "outputs": [],
   "source": [
    "#import lib\n",
    "import pandas as pd\n",
    "from sklearn.feature_extraction.text import TfidfVectorizer\n",
    "from sklearn.metrics.pairwise import cosine_similarity"
   ]
  },
  {
   "cell_type": "code",
   "execution_count": 2,
   "id": "e763ba67-cb7e-4e22-9a67-56a60b8ac3ba",
   "metadata": {},
   "outputs": [
    {
     "name": "stdout",
     "output_type": "stream",
     "text": [
      "   userId  movieId  rating            timestamp  \\\n",
      "0       1        2     3.5  2005-04-02 23:53:47   \n",
      "1       1       29     3.5  2005-04-02 23:31:16   \n",
      "2       1       32     3.5  2005-04-02 23:33:39   \n",
      "3       1       47     3.5  2005-04-02 23:32:07   \n",
      "4       1       50     3.5  2005-04-02 23:29:40   \n",
      "\n",
      "                                               title  \\\n",
      "0                                     Jumanji (1995)   \n",
      "1  City of Lost Children, The (Cité des enfants p...   \n",
      "2          Twelve Monkeys (a.k.a. 12 Monkeys) (1995)   \n",
      "3                        Seven (a.k.a. Se7en) (1995)   \n",
      "4                         Usual Suspects, The (1995)   \n",
      "\n",
      "                                   genres  \n",
      "0              Adventure|Children|Fantasy  \n",
      "1  Adventure|Drama|Fantasy|Mystery|Sci-Fi  \n",
      "2                 Mystery|Sci-Fi|Thriller  \n",
      "3                        Mystery|Thriller  \n",
      "4                  Crime|Mystery|Thriller  \n"
     ]
    }
   ],
   "source": [
    "#Load datasets\n",
    "movie = pd.read_csv(r\"C:\\Users\\calan\\Desktop\\HTML\\movie.csv\")\n",
    "rating = pd.read_csv(r\"C:\\Users\\calan\\Desktop\\HTML\\rating.csv\")\n",
    "\n",
    "#Merge on 'movieId' \n",
    "df = pd.merge(rating, movie, on='movieId')\n",
    "\n",
    "#print head\n",
    "print(df.head())"
   ]
  },
  {
   "cell_type": "code",
   "execution_count": 3,
   "id": "f41526ea-8281-481a-86c6-93f9f60e7afc",
   "metadata": {},
   "outputs": [],
   "source": [
    "#preprocess genres\n",
    "df['genres_clean'] = df['genres'].fillna('').apply(lambda x: x.replace('|', ' ').lower())\n"
   ]
  },
  {
   "cell_type": "code",
   "execution_count": 4,
   "id": "030bb1db-f0b7-4d08-9a51-5da9d695c791",
   "metadata": {},
   "outputs": [],
   "source": [
    "df_sample = df.sample(n=10000, random_state=42)"
   ]
  },
  {
   "cell_type": "code",
   "execution_count": 5,
   "id": "88784d85-96b4-4d6a-bcc7-2dde7449e565",
   "metadata": {},
   "outputs": [
    {
     "name": "stdout",
     "output_type": "stream",
     "text": [
      "0                                  adventure children fantasy\n",
      "1                      adventure drama fantasy mystery sci-fi\n",
      "2                                     mystery sci-fi thriller\n",
      "3                                            mystery thriller\n",
      "4                                      crime mystery thriller\n",
      "                                  ...                        \n",
      "20000258                   adventure animation children drama\n",
      "20000259                         action adventure sci-fi imax\n",
      "20000260    action adventure animation children comedy rom...\n",
      "20000261                              mystery sci-fi thriller\n",
      "20000262                                                drama\n",
      "Name: genres_clean, Length: 20000263, dtype: object\n"
     ]
    }
   ],
   "source": [
    "print(df['genres_clean'])"
   ]
  },
  {
   "cell_type": "code",
   "execution_count": 6,
   "id": "64c0847a-5739-458e-b1ca-53a0e3646f55",
   "metadata": {},
   "outputs": [],
   "source": [
    "from sklearn.feature_extraction.text import TfidfVectorizer\n",
    "\n",
    "tfidf = TfidfVectorizer()\n",
    "tfidf_matrix = tfidf.fit_transform(df['genres_clean'])\n"
   ]
  },
  {
   "cell_type": "code",
   "execution_count": null,
   "id": "963918ab-364c-4b10-8ffb-b0bd4525d8da",
   "metadata": {},
   "outputs": [],
   "source": [
    "#compute cosin similarity\n",
    "cosine_sim = cosine_similarity(tfidf_matrix, tfidf_matrix)"
   ]
  },
  {
   "cell_type": "code",
   "execution_count": null,
   "id": "f450b9a6-0946-433a-ad66-c95a54c0ab44",
   "metadata": {},
   "outputs": [],
   "source": [
    "indices = pd.Series(df.index, index=df['title_clean']).drop_duplicates()\n"
   ]
  },
  {
   "cell_type": "code",
   "execution_count": null,
   "id": "4fc4458b-b523-4c4f-bdf1-4149275c2220",
   "metadata": {},
   "outputs": [],
   "source": [
    "# Reset index to make sure indices align with the sample\n",
    "df = df.reset_index(drop=True)\n",
    "\n",
    "# Create a mapping from cleaned title to index\n",
    "indices = pd.Series(df.index, index=df['title_clean']).drop_duplicates()\n"
   ]
  },
  {
   "cell_type": "code",
   "execution_count": null,
   "id": "22bd8ef9-0fbf-4cb2-b02e-3e1ee7e1639e",
   "metadata": {},
   "outputs": [],
   "source": [
    "#Recommendation function\n",
    "def recommend_similar_movies(title, top_n=5):\n",
    "    if title not in indices:\n",
    "        return \"Movie not found.\"\n",
    "    idx = indices[title]\n",
    "    sim_scores = list(enumerate(cosine_sim[idx]))\n",
    "    sim_scores = sorted(sim_scores, key=lambda x: x[1], reverse=True)[1:top_n+1]\n",
    "    movie_indices = [i[0] for i in sim_scores]\n",
    "    return df[['title_clean', 'genres']].iloc[movie_indices]"
   ]
  },
  {
   "cell_type": "code",
   "execution_count": null,
   "id": "fb420997-bc4b-43a4-a730-4a84e89e12d3",
   "metadata": {},
   "outputs": [],
   "source": [
    "recommend_similar_movies(\"Jumanji\")"
   ]
  },
  {
   "cell_type": "code",
   "execution_count": null,
   "id": "5f1a9c2b-f124-4cb1-800d-a1e0bb6929e0",
   "metadata": {},
   "outputs": [],
   "source": []
  }
 ],
 "metadata": {
  "kernelspec": {
   "display_name": "Python 3 (ipykernel)",
   "language": "python",
   "name": "python3"
  },
  "language_info": {
   "codemirror_mode": {
    "name": "ipython",
    "version": 3
   },
   "file_extension": ".py",
   "mimetype": "text/x-python",
   "name": "python",
   "nbconvert_exporter": "python",
   "pygments_lexer": "ipython3",
   "version": "3.13.5"
  }
 },
 "nbformat": 4,
 "nbformat_minor": 5
}
