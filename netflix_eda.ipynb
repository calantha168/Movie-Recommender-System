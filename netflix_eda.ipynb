{
 "cells": [
  {
   "cell_type": "code",
   "execution_count": 2,
   "id": "59455bb6-1f45-47de-bbc9-15a8a9a1930b",
   "metadata": {},
   "outputs": [
    {
     "name": "stdout",
     "output_type": "stream",
     "text": [
      "   movieId                               title  \\\n",
      "0        1                    Toy Story (1995)   \n",
      "1        2                      Jumanji (1995)   \n",
      "2        3             Grumpier Old Men (1995)   \n",
      "3        4            Waiting to Exhale (1995)   \n",
      "4        5  Father of the Bride Part II (1995)   \n",
      "\n",
      "                                        genres  \n",
      "0  Adventure|Animation|Children|Comedy|Fantasy  \n",
      "1                   Adventure|Children|Fantasy  \n",
      "2                               Comedy|Romance  \n",
      "3                         Comedy|Drama|Romance  \n",
      "4                                       Comedy  \n"
     ]
    }
   ],
   "source": [
    "import pandas as pd\n",
    "\n",
    "#Load movie datasets\n",
    "movie = pd.read_csv(r\"C:\\Users\\calan\\Desktop\\HTML\\movie.csv\")\n",
    "print(movie.head())\n"
   ]
  },
  {
   "cell_type": "code",
   "execution_count": 3,
   "id": "036528bd-037c-4d8b-8343-be6e5b8a6ece",
   "metadata": {},
   "outputs": [
    {
     "name": "stdout",
     "output_type": "stream",
     "text": [
      "   userId  movieId  rating            timestamp\n",
      "0       1        2     3.5  2005-04-02 23:53:47\n",
      "1       1       29     3.5  2005-04-02 23:31:16\n",
      "2       1       32     3.5  2005-04-02 23:33:39\n",
      "3       1       47     3.5  2005-04-02 23:32:07\n",
      "4       1       50     3.5  2005-04-02 23:29:40\n"
     ]
    }
   ],
   "source": [
    "#Load rating datasets\n",
    "rating = pd.read_csv(r\"C:\\Users\\calan\\Desktop\\HTML\\rating.csv\")\n",
    "print(rating.head())\n"
   ]
  },
  {
   "cell_type": "markdown",
   "id": "9c67c310-5b21-4f6d-b51b-3240cb927d72",
   "metadata": {},
   "source": [
    "Merge movie and rating datasets."
   ]
  },
  {
   "cell_type": "code",
   "execution_count": 3,
   "id": "60744ca0-5eff-4997-8dbd-2ac7355871fc",
   "metadata": {},
   "outputs": [
    {
     "name": "stdout",
     "output_type": "stream",
     "text": [
      "   userId  movieId  rating            timestamp  \\\n",
      "0       1        2     3.5  2005-04-02 23:53:47   \n",
      "1       1       29     3.5  2005-04-02 23:31:16   \n",
      "2       1       32     3.5  2005-04-02 23:33:39   \n",
      "3       1       47     3.5  2005-04-02 23:32:07   \n",
      "4       1       50     3.5  2005-04-02 23:29:40   \n",
      "\n",
      "                                               title  \\\n",
      "0                                     Jumanji (1995)   \n",
      "1  City of Lost Children, The (Cité des enfants p...   \n",
      "2          Twelve Monkeys (a.k.a. 12 Monkeys) (1995)   \n",
      "3                        Seven (a.k.a. Se7en) (1995)   \n",
      "4                         Usual Suspects, The (1995)   \n",
      "\n",
      "                                   genres  \n",
      "0              Adventure|Children|Fantasy  \n",
      "1  Adventure|Drama|Fantasy|Mystery|Sci-Fi  \n",
      "2                 Mystery|Sci-Fi|Thriller  \n",
      "3                        Mystery|Thriller  \n",
      "4                  Crime|Mystery|Thriller  \n"
     ]
    }
   ],
   "source": [
    "import pandas as pd\n",
    "\n",
    "#Load datasets\n",
    "movie = pd.read_csv(r\"C:\\Users\\calan\\Desktop\\HTML\\movie.csv\")\n",
    "rating = pd.read_csv(r\"C:\\Users\\calan\\Desktop\\HTML\\rating.csv\")\n",
    "\n",
    "#Merge on 'movieId' \n",
    "df = pd.merge(rating, movie, on='movieId')\n",
    "\n",
    "#print head\n",
    "print(df.head())"
   ]
  },
  {
   "cell_type": "code",
   "execution_count": 4,
   "id": "e176e53e-66b3-497d-9abd-04d4de21bff5",
   "metadata": {},
   "outputs": [
    {
     "name": "stdout",
     "output_type": "stream",
     "text": [
      "   userId  movieId  rating        date      time\n",
      "0       1        2     3.5  2005-04-02  23:53:47\n",
      "1       1       29     3.5  2005-04-02  23:31:16\n",
      "2       1       32     3.5  2005-04-02  23:33:39\n",
      "3       1       47     3.5  2005-04-02  23:32:07\n",
      "4       1       50     3.5  2005-04-02  23:29:40\n"
     ]
    }
   ],
   "source": [
    "# Convert 'timestamp' to datetime format\n",
    "df['timestamp'] = pd.to_datetime(df['timestamp'])\n",
    "\n",
    "# Create new columns for date and time\n",
    "df['date'] = df['timestamp'].dt.date\n",
    "df['time'] = df['timestamp'].dt.time\n",
    "\n",
    "# Show updated DataFrame\n",
    "print(df[['userId', 'movieId', 'rating', 'date', 'time']].head())\n"
   ]
  },
  {
   "cell_type": "code",
   "execution_count": 5,
   "id": "2589e358-ed67-4c76-8c70-da92172ccfba",
   "metadata": {},
   "outputs": [
    {
     "name": "stdout",
     "output_type": "stream",
     "text": [
      "       time  month  year\n",
      "0  23:53:47      4  2005\n",
      "1  23:31:16      4  2005\n",
      "2  23:33:39      4  2005\n",
      "3  23:32:07      4  2005\n",
      "4  23:29:40      4  2005\n"
     ]
    }
   ],
   "source": [
    "df['month'] = df['timestamp'].dt.month\n",
    "df['year'] = df['timestamp'].dt.year\n",
    "print(df[['time', 'month', 'year']].head())\n"
   ]
  },
  {
   "cell_type": "code",
   "execution_count": 6,
   "id": "5ec1dc54-1d63-42fc-979c-67c64bf347d7",
   "metadata": {},
   "outputs": [
    {
     "name": "stdout",
     "output_type": "stream",
     "text": [
      "userId       0\n",
      "movieId      0\n",
      "rating       0\n",
      "timestamp    0\n",
      "title        0\n",
      "genres       0\n",
      "date         0\n",
      "time         0\n",
      "month        0\n",
      "year         0\n",
      "dtype: int64\n"
     ]
    }
   ],
   "source": [
    "#check for missing value\n",
    "print(df.isna().sum())"
   ]
  },
  {
   "cell_type": "code",
   "execution_count": 7,
   "id": "f5224462-6121-45b3-b1c3-6595299f6f64",
   "metadata": {},
   "outputs": [
    {
     "name": "stdout",
     "output_type": "stream",
     "text": [
      "userId                int64\n",
      "movieId               int64\n",
      "rating              float64\n",
      "timestamp    datetime64[ns]\n",
      "title                object\n",
      "genres               object\n",
      "date                 object\n",
      "time                 object\n",
      "month                 int32\n",
      "year                  int32\n",
      "dtype: object\n"
     ]
    }
   ],
   "source": [
    "#check for data types\n",
    "print(df.dtypes)"
   ]
  },
  {
   "cell_type": "code",
   "execution_count": 8,
   "id": "36108cde-6216-4667-a266-bda4bf325fed",
   "metadata": {},
   "outputs": [
    {
     "name": "stdout",
     "output_type": "stream",
     "text": [
      "                                               title  \\\n",
      "0                                     Jumanji (1995)   \n",
      "1  City of Lost Children, The (Cité des enfants p...   \n",
      "2          Twelve Monkeys (a.k.a. 12 Monkeys) (1995)   \n",
      "3                        Seven (a.k.a. Se7en) (1995)   \n",
      "4                         Usual Suspects, The (1995)   \n",
      "\n",
      "                                         title_clean year_released  \n",
      "0                                            Jumanji          1995  \n",
      "1  City of Lost Children, The (Cité des enfants p...          1995  \n",
      "2                 Twelve Monkeys (a.k.a. 12 Monkeys)          1995  \n",
      "3                               Seven (a.k.a. Se7en)          1995  \n",
      "4                                Usual Suspects, The          1995  \n"
     ]
    }
   ],
   "source": [
    "# Get year from title\n",
    "df['year_released'] = df['title'].str[-5:-1]  # last 5 characters like \"(1995\"\n",
    "\n",
    "# Get clean title without the year\n",
    "df['title_clean'] = df['title'].str[:-7]  # remove \" (1995)\" from the end\n",
    "\n",
    "# Show results\n",
    "print(df[['title', 'title_clean', 'year_released']].head())\n",
    "\n"
   ]
  },
  {
   "cell_type": "code",
   "execution_count": 9,
   "id": "beea9fe4-9dcd-4adb-b08a-c85e2762151c",
   "metadata": {},
   "outputs": [
    {
     "name": "stdout",
     "output_type": "stream",
     "text": [
      "   userId  movieId  rating           timestamp  \\\n",
      "0       1        2     3.5 2005-04-02 23:53:47   \n",
      "1       1       29     3.5 2005-04-02 23:31:16   \n",
      "2       1       32     3.5 2005-04-02 23:33:39   \n",
      "3       1       47     3.5 2005-04-02 23:32:07   \n",
      "4       1       50     3.5 2005-04-02 23:29:40   \n",
      "\n",
      "                                               title  \\\n",
      "0                                     Jumanji (1995)   \n",
      "1  City of Lost Children, The (Cité des enfants p...   \n",
      "2          Twelve Monkeys (a.k.a. 12 Monkeys) (1995)   \n",
      "3                        Seven (a.k.a. Se7en) (1995)   \n",
      "4                         Usual Suspects, The (1995)   \n",
      "\n",
      "                                   genres        date      time  month  year  \\\n",
      "0              Adventure|Children|Fantasy  2005-04-02  23:53:47      4  2005   \n",
      "1  Adventure|Drama|Fantasy|Mystery|Sci-Fi  2005-04-02  23:31:16      4  2005   \n",
      "2                 Mystery|Sci-Fi|Thriller  2005-04-02  23:33:39      4  2005   \n",
      "3                        Mystery|Thriller  2005-04-02  23:32:07      4  2005   \n",
      "4                  Crime|Mystery|Thriller  2005-04-02  23:29:40      4  2005   \n",
      "\n",
      "  year_released                                        title_clean  \n",
      "0          1995                                            Jumanji  \n",
      "1          1995  City of Lost Children, The (Cité des enfants p...  \n",
      "2          1995                 Twelve Monkeys (a.k.a. 12 Monkeys)  \n",
      "3          1995                               Seven (a.k.a. Se7en)  \n",
      "4          1995                                Usual Suspects, The  \n"
     ]
    }
   ],
   "source": [
    "print(df.head())"
   ]
  },
  {
   "cell_type": "code",
   "execution_count": 10,
   "id": "5acaef9c-fbcc-4bb3-b05e-7d94596e6562",
   "metadata": {},
   "outputs": [
    {
     "name": "stdout",
     "output_type": "stream",
     "text": [
      "20000263\n"
     ]
    }
   ],
   "source": [
    "print(df.shape[0])  # number of rows\n"
   ]
  },
  {
   "cell_type": "code",
   "execution_count": 11,
   "id": "3ab673bc-4c9b-41df-b0d1-02d33ae46a8b",
   "metadata": {},
   "outputs": [
    {
     "name": "stdout",
     "output_type": "stream",
     "text": [
      "<class 'pandas.core.frame.DataFrame'>\n",
      "RangeIndex: 20000263 entries, 0 to 20000262\n",
      "Data columns (total 12 columns):\n",
      " #   Column         Dtype         \n",
      "---  ------         -----         \n",
      " 0   userId         int64         \n",
      " 1   movieId        int64         \n",
      " 2   rating         float64       \n",
      " 3   timestamp      datetime64[ns]\n",
      " 4   title          object        \n",
      " 5   genres         object        \n",
      " 6   date           object        \n",
      " 7   time           object        \n",
      " 8   month          int32         \n",
      " 9   year           int32         \n",
      " 10  year_released  object        \n",
      " 11  title_clean    object        \n",
      "dtypes: datetime64[ns](1), float64(1), int32(2), int64(2), object(6)\n",
      "memory usage: 1.6+ GB\n",
      "None\n"
     ]
    }
   ],
   "source": [
    "print(df.info())\n"
   ]
  },
  {
   "cell_type": "code",
   "execution_count": 12,
   "id": "8ba18547-ea5d-4c64-9bd3-6a986ad6542a",
   "metadata": {},
   "outputs": [],
   "source": [
    "#df_sample = df.sample(100000, random_state=42)\n",
    "df['genres'] = df['genres'].astype('category')\n",
    "\n",
    "df['title'] = df['title'].astype('category')\n",
    "df['year_released'] = pd.to_numeric(df['year_released'], errors='coerce').astype('Int16')\n"
   ]
  },
  {
   "cell_type": "code",
   "execution_count": 13,
   "id": "67b474e0-c476-4c36-938b-5951f5eb7a60",
   "metadata": {},
   "outputs": [
    {
     "name": "stdout",
     "output_type": "stream",
     "text": [
      "   userId  movieId  rating           timestamp  \\\n",
      "0       1        2     3.5 2005-04-02 23:53:47   \n",
      "1       1       29     3.5 2005-04-02 23:31:16   \n",
      "2       1       32     3.5 2005-04-02 23:33:39   \n",
      "3       1       47     3.5 2005-04-02 23:32:07   \n",
      "4       1       50     3.5 2005-04-02 23:29:40   \n",
      "\n",
      "                                               title  \\\n",
      "0                                     Jumanji (1995)   \n",
      "1  City of Lost Children, The (Cité des enfants p...   \n",
      "2          Twelve Monkeys (a.k.a. 12 Monkeys) (1995)   \n",
      "3                        Seven (a.k.a. Se7en) (1995)   \n",
      "4                         Usual Suspects, The (1995)   \n",
      "\n",
      "                                   genres        date      time  month  year  \\\n",
      "0              Adventure|Children|Fantasy  2005-04-02  23:53:47      4  2005   \n",
      "1  Adventure|Drama|Fantasy|Mystery|Sci-Fi  2005-04-02  23:31:16      4  2005   \n",
      "2                 Mystery|Sci-Fi|Thriller  2005-04-02  23:33:39      4  2005   \n",
      "3                        Mystery|Thriller  2005-04-02  23:32:07      4  2005   \n",
      "4                  Crime|Mystery|Thriller  2005-04-02  23:29:40      4  2005   \n",
      "\n",
      "   year_released                                        title_clean  \n",
      "0           1995                                            Jumanji  \n",
      "1           1995  City of Lost Children, The (Cité des enfants p...  \n",
      "2           1995                 Twelve Monkeys (a.k.a. 12 Monkeys)  \n",
      "3           1995                               Seven (a.k.a. Se7en)  \n",
      "4           1995                                Usual Suspects, The  \n"
     ]
    }
   ],
   "source": [
    "print(df.head())"
   ]
  },
  {
   "cell_type": "code",
   "execution_count": 14,
   "id": "876dd47b-b3a9-482c-aa1f-7a466797cb61",
   "metadata": {},
   "outputs": [
    {
     "name": "stdout",
     "output_type": "stream",
     "text": [
      "                 Genre  Movie Count\n",
      "0                Drama        13062\n",
      "1               Comedy         8232\n",
      "2             Thriller         4129\n",
      "3              Romance         4029\n",
      "4               Action         3466\n",
      "5                Crime         2889\n",
      "6               Horror         2590\n",
      "7          Documentary         2391\n",
      "8            Adventure         2287\n",
      "9               Sci-Fi         1720\n",
      "10             Mystery         1489\n",
      "11             Fantasy         1398\n",
      "12                 War         1173\n",
      "13            Children         1118\n",
      "14             Musical         1016\n",
      "15           Animation         1015\n",
      "16             Western          656\n",
      "17           Film-Noir          322\n",
      "18  (no genres listed)          242\n",
      "19                IMAX          195\n"
     ]
    }
   ],
   "source": [
    "# Step 1: Drop duplicate movies to count each movie once\n",
    "unique_movies = df[['movieId', 'genres']].drop_duplicates()\n",
    "\n",
    "# Step 2: Split genres by '|'\n",
    "genre_split = unique_movies['genres'].str.split('|')\n",
    "\n",
    "# Step 3: Explode the list into separate rows\n",
    "genre_exploded = genre_split.explode()\n",
    "\n",
    "# Step 4: Count each genre\n",
    "genre_counts = genre_exploded.value_counts().reset_index()\n",
    "genre_counts.columns = ['Genre', 'Movie Count']\n",
    "\n",
    "# Show result\n",
    "print(genre_counts)\n"
   ]
  },
  {
   "cell_type": "code",
   "execution_count": 15,
   "id": "c9ce6141-becf-43d4-9e51-9a0774ce6b3b",
   "metadata": {},
   "outputs": [
    {
     "name": "stdout",
     "output_type": "stream",
     "text": [
      "       Genre Combination  Movie Count\n",
      "0                  Drama         4416\n",
      "1                 Comedy         2251\n",
      "2            Documentary         1879\n",
      "3           Comedy|Drama         1241\n",
      "4          Drama|Romance         1043\n",
      "5         Comedy|Romance          741\n",
      "6   Comedy|Drama|Romance          594\n",
      "7                 Horror          556\n",
      "8            Crime|Drama          435\n",
      "9         Drama|Thriller          421\n",
      "10             Drama|War          394\n",
      "11       Horror|Thriller          372\n",
      "12  Crime|Drama|Thriller          299\n",
      "13              Thriller          264\n",
      "14    (no genres listed)          242\n"
     ]
    }
   ],
   "source": [
    "# Step 1: Drop duplicate movies (so you don't count the same movie multiple times)\n",
    "\n",
    "unique_movies = df[['movieId', 'genres']].drop_duplicates()\n",
    "\n",
    "# Step 2: Count each unique genre combination\n",
    "genre_combos = unique_movies['genres'].value_counts().reset_index()\n",
    "genre_combos.columns = ['Genre Combination', 'Movie Count']\n",
    "\n",
    "# Step 3: Show top 10 most common genre combinations\n",
    "print(genre_combos.head(15))\n"
   ]
  },
  {
   "cell_type": "code",
   "execution_count": 16,
   "id": "be06b8dc-a1a9-4b5c-9849-64d30cbc6a31",
   "metadata": {},
   "outputs": [
    {
     "data": {
      "image/png": "[encoded data removed]",
      "text/plain": [
       "<Figure size 1000x600 with 1 Axes>"
      ]
     },
     "metadata": {},
     "output_type": "display_data"
    }
   ],
   "source": [
    "import pandas as pd\n",
    "import matplotlib.pyplot as plt\n",
    "\n",
    "# Step 1: Get unique movies and count genre combinations\n",
    "unique_movies = df[['movieId', 'genres']].drop_duplicates()\n",
    "genre_combos = unique_movies['genres'].value_counts().reset_index()\n",
    "genre_combos.columns = ['Genre Combination', 'Movie Count']\n",
    "\n",
    "# Step 2: Plot the top 10\n",
    "top_10 = genre_combos.head(15)\n",
    "\n",
    "# Step 3: Plot\n",
    "plt.figure(figsize=(10, 6))\n",
    "plt.barh(top_10['Genre Combination'], top_10['Movie Count'], color='skyblue')\n",
    "plt.xlabel(\"Number of Movies\")\n",
    "plt.title(\"Top 15 Most Common Genre Combinations\")\n",
    "plt.gca().invert_yaxis()  # most frequent on top\n",
    "plt.tight_layout()\n",
    "plt.show()\n"
   ]
  },
  {
   "cell_type": "code",
   "execution_count": 17,
   "id": "12240c7a-3811-402d-be69-e591aa88dbc8",
   "metadata": {},
   "outputs": [
    {
     "name": "stdout",
     "output_type": "stream",
     "text": [
      "Movie Counts by Genre (all rows counted):\n",
      "\n",
      "Action: 5614208 movies\n",
      "Adventure: 4380351 movies\n",
      "Animation: 1140476 movies\n",
      "Children: 1669249 movies\n",
      "Comedy: 7502234 movies\n",
      "Crime: 3298335 movies\n",
      "Documentary: 244619 movies\n",
      "Drama: 8857853 movies\n",
      "Fantasy: 2111403 movies\n",
      "Film-Noir: 216689 movies\n",
      "Horror: 1482737 movies\n",
      "IMAX: 492366 movies\n",
      "Musical: 870915 movies\n",
      "Mystery: 1557282 movies\n",
      "Romance: 3802002 movies\n",
      "Sci-Fi: 3150141 movies\n",
      "Thriller: 5313506 movies\n",
      "War: 1048618 movies\n",
      "Western: 423714 movies\n"
     ]
    }
   ],
   "source": [
    "# Full genre list\n",
    "genres_list = [\n",
    "    'Action', 'Adventure', 'Animation', 'Children', 'Comedy', 'Crime',\n",
    "    'Documentary', 'Drama', 'Fantasy', 'Film-Noir', 'Horror', 'IMAX',\n",
    "    'Musical', 'Mystery', 'Romance', 'Sci-Fi', 'Thriller', 'War', 'Western'\n",
    "]\n",
    "\n",
    "# Create a dictionary to hold counts\n",
    "genre_counts = {genre: 0 for genre in genres_list}\n",
    "\n",
    "# Loop through each row in the genres column\n",
    "for genre_string in df['genres']:\n",
    "    if pd.isna(genre_string):\n",
    "        continue\n",
    "    genre_split = genre_string.split('|')\n",
    "    for genre in genre_split:\n",
    "        if genre in genre_counts:\n",
    "            genre_counts[genre] += 1\n",
    "\n",
    "# Print the results\n",
    "print(\"Movie Counts by Genre (all rows counted):\\n\")\n",
    "for genre, count in genre_counts.items():\n",
    "    print(f\"{genre}: {count} movies\")\n"
   ]
  },
  {
   "cell_type": "code",
   "execution_count": 18,
   "id": "33bd2db4-b306-40b0-9562-c0a3b3637be6",
   "metadata": {},
   "outputs": [
    {
     "name": "stdout",
     "output_type": "stream",
     "text": [
      "Unique genres in the dataset:\n",
      "- (no genres listed)\n",
      "- Action\n",
      "- Adventure\n",
      "- Animation\n",
      "- Children\n",
      "- Comedy\n",
      "- Crime\n",
      "- Documentary\n",
      "- Drama\n",
      "- Fantasy\n",
      "- Film-Noir\n",
      "- Horror\n",
      "- IMAX\n",
      "- Musical\n",
      "- Mystery\n",
      "- Romance\n",
      "- Sci-Fi\n",
      "- Thriller\n",
      "- War\n",
      "- Western\n"
     ]
    }
   ],
   "source": [
    "# Step 1: Drop duplicate movies to avoid counting a movie twice\n",
    "unique_movies = df[['movieId', 'genres']].drop_duplicates()\n",
    "\n",
    "# Step 2: Split genre strings by '|'\n",
    "genre_split = unique_movies['genres'].str.split('|')\n",
    "\n",
    "# Step 3: Explode the list into individual genre entries\n",
    "genre_exploded = genre_split.explode()\n",
    "\n",
    "# Step 4: Get unique genres\n",
    "unique_genres = genre_exploded.unique()\n",
    "\n",
    "# Step 5: Sort and print\n",
    "unique_genres = sorted(unique_genres)\n",
    "print(\"Unique genres in the dataset:\")\n",
    "for genre in unique_genres:\n",
    "    print(\"-\", genre)\n"
   ]
  },
  {
   "cell_type": "code",
   "execution_count": 20,
   "id": "770cc623-dd87-405d-9b84-718c615074df",
   "metadata": {},
   "outputs": [
    {
     "name": "stdout",
     "output_type": "stream",
     "text": [
      "(no genres listed): 361 movies\n"
     ]
    }
   ],
   "source": [
    "no_genres_count = df[df['genres'] == '(no genres listed)'].shape[0]\n",
    "print(f\"(no genres listed): {no_genres_count} movies\")\n"
   ]
  },
  {
   "cell_type": "code",
   "execution_count": 19,
   "id": "5e471ad7-8de9-47a9-87da-d55958569fb2",
   "metadata": {},
   "outputs": [
    {
     "name": "stdout",
     "output_type": "stream",
     "text": [
      "Unique genres in the dataset:\n",
      "- (no genres listed)\n",
      "- Action\n",
      "- Adventure\n",
      "- Animation\n",
      "- Children\n",
      "- Comedy\n",
      "- Crime\n",
      "- Documentary\n",
      "- Drama\n",
      "- Fantasy\n",
      "- Film-Noir\n",
      "- Horror\n",
      "- IMAX\n",
      "- Musical\n",
      "- Mystery\n",
      "- Romance\n",
      "- Sci-Fi\n",
      "- Thriller\n",
      "- War\n",
      "- Western\n"
     ]
    }
   ],
   "source": [
    "# Step 1: Drop duplicate movies to avoid counting a movie twice\n",
    "unique_movies = df[['movieId', 'genres']].drop_duplicates()\n",
    "\n",
    "# Step 2: Split genre strings by '|'\n",
    "genre_split = unique_movies['genres'].str.split('|')\n",
    "\n",
    "# Step 3: Explode the list into individual genre entries\n",
    "genre_exploded = genre_split.explode()\n",
    "\n",
    "# Step 4: Get unique genres\n",
    "unique_genres = genre_exploded.unique()\n",
    "\n",
    "# Step 5: Sort and print\n",
    "unique_genres = sorted(unique_genres)\n",
    "print(\"Unique genres in the dataset:\")\n",
    "for genre in unique_genres:\n",
    "    print(\"-\", genre)\n"
   ]
  },
  {
   "cell_type": "code",
   "execution_count": 20,
   "id": "c988652f-393a-495e-bfea-6131b015e7be",
   "metadata": {},
   "outputs": [
    {
     "name": "stdout",
     "output_type": "stream",
     "text": [
      "<class 'pandas.core.frame.DataFrame'>\n",
      "RangeIndex: 20000263 entries, 0 to 20000262\n",
      "Data columns (total 12 columns):\n",
      " #   Column         Dtype         \n",
      "---  ------         -----         \n",
      " 0   userId         int64         \n",
      " 1   movieId        int64         \n",
      " 2   rating         float64       \n",
      " 3   timestamp      datetime64[ns]\n",
      " 4   title          category      \n",
      " 5   genres         category      \n",
      " 6   date           object        \n",
      " 7   time           object        \n",
      " 8   month          int32         \n",
      " 9   year           int32         \n",
      " 10  year_released  Int16         \n",
      " 11  title_clean    object        \n",
      "dtypes: Int16(1), category(2), datetime64[ns](1), float64(1), int32(2), int64(2), object(3)\n",
      "memory usage: 1.3+ GB\n",
      "None\n"
     ]
    }
   ],
   "source": [
    "print(df.info())"
   ]
  },
  {
   "cell_type": "code",
   "execution_count": 21,
   "id": "df7adafb-607e-4abe-add1-a0dc9048199a",
   "metadata": {},
   "outputs": [
    {
     "name": "stdout",
     "output_type": "stream",
     "text": [
      "20000263\n"
     ]
    }
   ],
   "source": [
    "print(len(df))"
   ]
  },
  {
   "cell_type": "code",
   "execution_count": 22,
   "id": "bc37760d-3383-47f1-bbcf-e0a4b7ffdffb",
   "metadata": {},
   "outputs": [
    {
     "data": {
      "image/png": "[encoded data removed]",
      "text/plain": [
       "<Figure size 640x480 with 1 Axes>"
      ]
     },
     "metadata": {},
     "output_type": "display_data"
    }
   ],
   "source": [
    "df_sample = df.sample(500_000, random_state=42)\n",
    "\n",
    "df_sample['genres'] = df_sample['genres'].str.split('|')\n",
    "df_sample = df_sample.explode('genres')\n",
    "\n",
    "# Plot from this\n",
    "genre_avg = df_sample.groupby('genres')['rating'].mean().sort_values(ascending=False)\n",
    "genre_avg.plot(kind='bar')\n",
    "plt.show()\n",
    "\n"
   ]
  },
  {
   "cell_type": "code",
   "execution_count": 23,
   "id": "8631dc4e-ec5a-4ec0-add7-de10e6cf1a95",
   "metadata": {},
   "outputs": [
    {
     "name": "stdout",
     "output_type": "stream",
     "text": [
      "Total unique users: 138493\n"
     ]
    }
   ],
   "source": [
    "num_users = df['userId'].nunique()\n",
    "print(f\"Total unique users: {num_users}\")\n"
   ]
  },
  {
   "cell_type": "code",
   "execution_count": 24,
   "id": "ee0de8d0-cff6-480c-a15a-ce6b09e667ae",
   "metadata": {},
   "outputs": [
    {
     "name": "stdout",
     "output_type": "stream",
     "text": [
      "Average number of movies rated per user: 144.41\n"
     ]
    }
   ],
   "source": [
    "num_users = df['userId'].nunique()\n",
    "total_ratings = len(df)\n",
    "\n",
    "average_ratings_per_user = total_ratings / num_users\n",
    "print(f\"Average number of movies rated per user: {average_ratings_per_user:.2f}\")\n"
   ]
  },
  {
   "cell_type": "code",
   "execution_count": 25,
   "id": "6c6563b8-7670-401b-ab31-ea8e42531728",
   "metadata": {},
   "outputs": [
    {
     "name": "stdout",
     "output_type": "stream",
     "text": [
      "Index(['userId', 'movieId', 'rating', 'timestamp', 'title', 'genres', 'date',\n",
      "       'time', 'month', 'year', 'year_released', 'title_clean'],\n",
      "      dtype='object')\n"
     ]
    }
   ],
   "source": [
    "print(df.columns)"
   ]
  },
  {
   "cell_type": "code",
   "execution_count": 26,
   "id": "edcbae61-ef31-4de1-b1ad-e556a7827731",
   "metadata": {},
   "outputs": [
    {
     "name": "stdout",
     "output_type": "stream",
     "text": [
      "   rating rating_category\n",
      "0     3.5   Hit (3.1–3.6)\n",
      "1     3.5   Hit (3.1–3.6)\n",
      "2     3.5   Hit (3.1–3.6)\n",
      "3     3.5   Hit (3.1–3.6)\n",
      "4     3.5   Hit (3.1–3.6)\n"
     ]
    }
   ],
   "source": [
    "# Step 1: Define the function for rating category\n",
    "def categorize_rating(rating):\n",
    "    if 0.0 <= rating <= 1.4:\n",
    "        return \"Flop (0.0–1.4)\"\n",
    "    elif 1.5 <= rating <= 2.4:\n",
    "        return \"Below Average (1.5–2.4)\"\n",
    "    elif 2.5 <= rating <= 3.0:\n",
    "        return \"Average (2.5–3.0)\"\n",
    "    elif 3.1 <= rating <= 3.6:\n",
    "        return \"Hit (3.1–3.6)\"\n",
    "    elif 3.7 <= rating <= 4.0:\n",
    "        return \"Super Hit (3.7–4.0)\"\n",
    "    else:\n",
    "        return \"Invalid Rating\"\n",
    "\n",
    "# Step 2: Apply the function to create a new column\n",
    "df['rating_category'] = df['rating'].apply(categorize_rating)\n",
    "\n",
    "# Step 3: Optional – Preview the results\n",
    "print(df[['rating', 'rating_category']].head())\n"
   ]
  },
  {
   "cell_type": "code",
   "execution_count": 27,
   "id": "bf6fd8f3-999e-4a6c-9c6d-7f8124936089",
   "metadata": {},
   "outputs": [
    {
     "name": "stdout",
     "output_type": "stream",
     "text": [
      "Index(['userId', 'movieId', 'rating', 'timestamp', 'title', 'genres', 'date',\n",
      "       'time', 'month', 'year', 'year_released', 'title_clean',\n",
      "       'rating_category'],\n",
      "      dtype='object')\n"
     ]
    }
   ],
   "source": [
    "print(df.columns)"
   ]
  },
  {
   "cell_type": "code",
   "execution_count": 28,
   "id": "9213a1fc-8c88-42fa-923b-997a0545eb89",
   "metadata": {},
   "outputs": [
    {
     "name": "stdout",
     "output_type": "stream",
     "text": [
      "   userId  movieId  rating           timestamp  \\\n",
      "0       1        2     3.5 2005-04-02 23:53:47   \n",
      "1       1       29     3.5 2005-04-02 23:31:16   \n",
      "2       1       32     3.5 2005-04-02 23:33:39   \n",
      "3       1       47     3.5 2005-04-02 23:32:07   \n",
      "4       1       50     3.5 2005-04-02 23:29:40   \n",
      "\n",
      "                                               title  \\\n",
      "0                                     Jumanji (1995)   \n",
      "1  City of Lost Children, The (Cité des enfants p...   \n",
      "2          Twelve Monkeys (a.k.a. 12 Monkeys) (1995)   \n",
      "3                        Seven (a.k.a. Se7en) (1995)   \n",
      "4                         Usual Suspects, The (1995)   \n",
      "\n",
      "                                   genres        date      time  month  year  \\\n",
      "0              Adventure|Children|Fantasy  2005-04-02  23:53:47      4  2005   \n",
      "1  Adventure|Drama|Fantasy|Mystery|Sci-Fi  2005-04-02  23:31:16      4  2005   \n",
      "2                 Mystery|Sci-Fi|Thriller  2005-04-02  23:33:39      4  2005   \n",
      "3                        Mystery|Thriller  2005-04-02  23:32:07      4  2005   \n",
      "4                  Crime|Mystery|Thriller  2005-04-02  23:29:40      4  2005   \n",
      "\n",
      "   year_released                                        title_clean  \\\n",
      "0           1995                                            Jumanji   \n",
      "1           1995  City of Lost Children, The (Cité des enfants p...   \n",
      "2           1995                 Twelve Monkeys (a.k.a. 12 Monkeys)   \n",
      "3           1995                               Seven (a.k.a. Se7en)   \n",
      "4           1995                                Usual Suspects, The   \n",
      "\n",
      "  rating_category  \n",
      "0   Hit (3.1–3.6)  \n",
      "1   Hit (3.1–3.6)  \n",
      "2   Hit (3.1–3.6)  \n",
      "3   Hit (3.1–3.6)  \n",
      "4   Hit (3.1–3.6)  \n"
     ]
    }
   ],
   "source": [
    "print(df.head())"
   ]
  },
  {
   "cell_type": "code",
   "execution_count": 29,
   "id": "a68283ec-b0a4-495f-a259-59efbf24c402",
   "metadata": {},
   "outputs": [
    {
     "data": {
      "image/png": "[encoded data removed]",
      "text/plain": [
       "<Figure size 1000x600 with 1 Axes>"
      ]
     },
     "metadata": {},
     "output_type": "display_data"
    }
   ],
   "source": [
    "import pandas as pd\n",
    "import matplotlib.pyplot as plt\n",
    "\n",
    "# Define the genre list\n",
    "genres_list = [\n",
    "    'Action', 'Adventure', 'Animation', 'Children', 'Comedy', 'Crime',\n",
    "    'Documentary', 'Drama', 'Fantasy', 'Film-Noir', 'Horror', 'IMAX',\n",
    "    'Musical', 'Mystery', 'Romance', 'Sci-Fi', 'Thriller', 'War', 'Western'\n",
    "]\n",
    "\n",
    "# Initialize the genre counts\n",
    "genre_counts = {genre: 0 for genre in genres_list}\n",
    "\n",
    "# Loop to count genres\n",
    "for genre_string in df['genres']:\n",
    "    if pd.isna(genre_string):\n",
    "        continue\n",
    "    for genre in genre_string.split('|'):\n",
    "        if genre in genre_counts:\n",
    "            genre_counts[genre] += 1\n",
    "\n",
    "# Convert to DataFrame and get top 10\n",
    "genre_df = pd.DataFrame(list(genre_counts.items()), columns=['Genre', 'Count'])\n",
    "genre_df = genre_df.sort_values(by='Count', ascending=False).head(10)\n",
    "\n",
    "# Plot\n",
    "plt.figure(figsize=(10, 6))\n",
    "plt.bar(genre_df['Genre'], genre_df['Count'])\n",
    "plt.title('Top 10 Most Frequent Genres')\n",
    "plt.xlabel('Genre')\n",
    "plt.ylabel('Number of Movies')\n",
    "plt.xticks(rotation=45)\n",
    "plt.tight_layout()\n",
    "plt.show()\n"
   ]
  },
  {
   "cell_type": "code",
   "execution_count": 30,
   "id": "63375ac1-14b4-44fe-9a4f-4183f44344a1",
   "metadata": {},
   "outputs": [
    {
     "name": "stdout",
     "output_type": "stream",
     "text": [
      "Movie Counts by Genre (sorted from most to least):\n",
      "\n",
      "Drama: 8857853 movies\n",
      "Comedy: 7502234 movies\n",
      "Action: 5614208 movies\n",
      "Thriller: 5313506 movies\n",
      "Adventure: 4380351 movies\n",
      "Romance: 3802002 movies\n",
      "Crime: 3298335 movies\n",
      "Sci-Fi: 3150141 movies\n",
      "Fantasy: 2111403 movies\n",
      "Children: 1669249 movies\n",
      "Mystery: 1557282 movies\n",
      "Horror: 1482737 movies\n",
      "Animation: 1140476 movies\n",
      "War: 1048618 movies\n",
      "Musical: 870915 movies\n",
      "IMAX: 492366 movies\n",
      "Western: 423714 movies\n",
      "Documentary: 244619 movies\n",
      "Film-Noir: 216689 movies\n"
     ]
    }
   ],
   "source": [
    "# Full genre list\n",
    "genres_list = [\n",
    "    'Action', 'Adventure', 'Animation', 'Children', 'Comedy', 'Crime',\n",
    "    'Documentary', 'Drama', 'Fantasy', 'Film-Noir', 'Horror', 'IMAX',\n",
    "    'Musical', 'Mystery', 'Romance', 'Sci-Fi', 'Thriller', 'War', 'Western'\n",
    "]\n",
    "\n",
    "# Create a dictionary to hold counts\n",
    "genre_counts = {genre: 0 for genre in genres_list}\n",
    "\n",
    "# Loop through each row in the genres column\n",
    "for genre_string in df['genres']:\n",
    "    if pd.isna(genre_string):\n",
    "        continue\n",
    "    genre_split = genre_string.split('|')\n",
    "    for genre in genre_split:\n",
    "        if genre in genre_counts:\n",
    "            genre_counts[genre] += 1\n",
    "\n",
    "# Print the results in descending order\n",
    "print(\"Movie Counts by Genre (sorted from most to least):\\n\")\n",
    "for genre, count in sorted(genre_counts.items(), key=lambda x: x[1], reverse=True):\n",
    "    print(f\"{genre}: {count} movies\")\n"
   ]
  },
  {
   "cell_type": "code",
   "execution_count": 31,
   "id": "460aa0eb-42ca-4141-b736-3efd6666ab82",
   "metadata": {},
   "outputs": [
    {
     "name": "stdout",
     "output_type": "stream",
     "text": [
      "Movie Counts by Rating Category (sorted from most to least):\n",
      "\n",
      "Super Hit (3.7–4.0): 5561926 movies\n",
      "Average (2.5–3.0): 5174591 movies\n",
      "Invalid Rating: 4433484 movies\n",
      "Hit (3.1–3.6): 2200156 movies\n",
      "Below Average (1.5–2.4): 1710249 movies\n",
      "Flop (0.0–1.4): 919857 movies\n"
     ]
    }
   ],
   "source": [
    "# Create a dictionary to hold counts of rating categories\n",
    "rating_counts = {}\n",
    "\n",
    "# Loop through each row in the rating_category column\n",
    "for category in df['rating_category']:\n",
    "    if pd.isna(category):\n",
    "        continue\n",
    "    if category in rating_counts:\n",
    "        rating_counts[category] += 1\n",
    "    else:\n",
    "        rating_counts[category] = 1\n",
    "\n",
    "# Print the results in descending order\n",
    "print(\"Movie Counts by Rating Category (sorted from most to least):\\n\")\n",
    "for category, count in sorted(rating_counts.items(), key=lambda x: x[1], reverse=True):\n",
    "    print(f\"{category}: {count} movies\")\n"
   ]
  },
  {
   "cell_type": "code",
   "execution_count": 33,
   "id": "755dda13-df25-475b-8a09-f88e761bf918",
   "metadata": {},
   "outputs": [
    {
     "ename": "MemoryError",
     "evalue": "Unable to allocate 153. MiB for an array with shape (20000263,) and data type object",
     "output_type": "error",
     "traceback": [
      "\u001b[1;31m---------------------------------------------------------------------------\u001b[0m",
      "\u001b[1;31mMemoryError\u001b[0m                               Traceback (most recent call last)",
      "Cell \u001b[1;32mIn[33], line 16\u001b[0m\n\u001b[0;32m     13\u001b[0m genre_counts \u001b[38;5;241m=\u001b[39m {genre: \u001b[38;5;241m0\u001b[39m \u001b[38;5;28;01mfor\u001b[39;00m genre \u001b[38;5;129;01min\u001b[39;00m genres_list}\n\u001b[0;32m     15\u001b[0m \u001b[38;5;66;03m# Step 3: Loop over rows using itertuples() (memory-safe)\u001b[39;00m\n\u001b[1;32m---> 16\u001b[0m \u001b[38;5;28;01mfor\u001b[39;00m row \u001b[38;5;129;01min\u001b[39;00m df\u001b[38;5;241m.\u001b[39mitertuples(index\u001b[38;5;241m=\u001b[39m\u001b[38;5;28;01mFalse\u001b[39;00m):\n\u001b[0;32m     17\u001b[0m     genre_string \u001b[38;5;241m=\u001b[39m \u001b[38;5;28mgetattr\u001b[39m(row, \u001b[38;5;124m'\u001b[39m\u001b[38;5;124mgenres\u001b[39m\u001b[38;5;124m'\u001b[39m, \u001b[38;5;28;01mNone\u001b[39;00m)\n\u001b[0;32m     18\u001b[0m     \u001b[38;5;28;01mif\u001b[39;00m \u001b[38;5;129;01mnot\u001b[39;00m genre_string \u001b[38;5;129;01mor\u001b[39;00m pd\u001b[38;5;241m.\u001b[39misna(genre_string):\n",
      "File \u001b[1;32mD:\\Users\\calan\\anaconda3\\Lib\\site-packages\\pandas\\core\\frame.py:1638\u001b[0m, in \u001b[0;36mDataFrame.itertuples\u001b[1;34m(self, index, name)\u001b[0m\n\u001b[0;32m   1632\u001b[0m \u001b[38;5;28;01mif\u001b[39;00m name \u001b[38;5;129;01mis\u001b[39;00m \u001b[38;5;129;01mnot\u001b[39;00m \u001b[38;5;28;01mNone\u001b[39;00m:\n\u001b[0;32m   1633\u001b[0m     \u001b[38;5;66;03m# https://github.com/python/mypy/issues/9046\u001b[39;00m\n\u001b[0;32m   1634\u001b[0m     \u001b[38;5;66;03m# error: namedtuple() expects a string literal as the first argument\u001b[39;00m\n\u001b[0;32m   1635\u001b[0m     itertuple \u001b[38;5;241m=\u001b[39m collections\u001b[38;5;241m.\u001b[39mnamedtuple(  \u001b[38;5;66;03m# type: ignore[misc]\u001b[39;00m\n\u001b[0;32m   1636\u001b[0m         name, fields, rename\u001b[38;5;241m=\u001b[39m\u001b[38;5;28;01mTrue\u001b[39;00m\n\u001b[0;32m   1637\u001b[0m     )\n\u001b[1;32m-> 1638\u001b[0m     \u001b[38;5;28;01mreturn\u001b[39;00m \u001b[38;5;28mmap\u001b[39m(itertuple\u001b[38;5;241m.\u001b[39m_make, \u001b[38;5;28mzip\u001b[39m(\u001b[38;5;241m*\u001b[39marrays))\n\u001b[0;32m   1640\u001b[0m \u001b[38;5;66;03m# fallback to regular tuples\u001b[39;00m\n\u001b[0;32m   1641\u001b[0m \u001b[38;5;28;01mreturn\u001b[39;00m \u001b[38;5;28mzip\u001b[39m(\u001b[38;5;241m*\u001b[39marrays)\n",
      "File \u001b[1;32mD:\\Users\\calan\\anaconda3\\Lib\\site-packages\\pandas\\core\\base.py:860\u001b[0m, in \u001b[0;36mIndexOpsMixin.__iter__\u001b[1;34m(self)\u001b[0m\n\u001b[0;32m    857\u001b[0m \u001b[38;5;66;03m# We are explicitly making element iterators.\u001b[39;00m\n\u001b[0;32m    858\u001b[0m \u001b[38;5;28;01mif\u001b[39;00m \u001b[38;5;129;01mnot\u001b[39;00m \u001b[38;5;28misinstance\u001b[39m(\u001b[38;5;28mself\u001b[39m\u001b[38;5;241m.\u001b[39m_values, np\u001b[38;5;241m.\u001b[39mndarray):\n\u001b[0;32m    859\u001b[0m     \u001b[38;5;66;03m# Check type instead of dtype to catch DTA/TDA\u001b[39;00m\n\u001b[1;32m--> 860\u001b[0m     \u001b[38;5;28;01mreturn\u001b[39;00m \u001b[38;5;28miter\u001b[39m(\u001b[38;5;28mself\u001b[39m\u001b[38;5;241m.\u001b[39m_values)\n\u001b[0;32m    861\u001b[0m \u001b[38;5;28;01melse\u001b[39;00m:\n\u001b[0;32m    862\u001b[0m     \u001b[38;5;28;01mreturn\u001b[39;00m \u001b[38;5;28mmap\u001b[39m(\u001b[38;5;28mself\u001b[39m\u001b[38;5;241m.\u001b[39m_values\u001b[38;5;241m.\u001b[39mitem, \u001b[38;5;28mrange\u001b[39m(\u001b[38;5;28mself\u001b[39m\u001b[38;5;241m.\u001b[39m_values\u001b[38;5;241m.\u001b[39msize))\n",
      "File \u001b[1;32mD:\\Users\\calan\\anaconda3\\Lib\\site-packages\\pandas\\core\\arrays\\categorical.py:2162\u001b[0m, in \u001b[0;36mCategorical.__iter__\u001b[1;34m(self)\u001b[0m\n\u001b[0;32m   2158\u001b[0m \u001b[38;5;250m\u001b[39m\u001b[38;5;124;03m\"\"\"\u001b[39;00m\n\u001b[0;32m   2159\u001b[0m \u001b[38;5;124;03mReturns an Iterator over the values of this Categorical.\u001b[39;00m\n\u001b[0;32m   2160\u001b[0m \u001b[38;5;124;03m\"\"\"\u001b[39;00m\n\u001b[0;32m   2161\u001b[0m \u001b[38;5;28;01mif\u001b[39;00m \u001b[38;5;28mself\u001b[39m\u001b[38;5;241m.\u001b[39mndim \u001b[38;5;241m==\u001b[39m \u001b[38;5;241m1\u001b[39m:\n\u001b[1;32m-> 2162\u001b[0m     \u001b[38;5;28;01mreturn\u001b[39;00m \u001b[38;5;28miter\u001b[39m(\u001b[38;5;28mself\u001b[39m\u001b[38;5;241m.\u001b[39m_internal_get_values()\u001b[38;5;241m.\u001b[39mtolist())\n\u001b[0;32m   2163\u001b[0m \u001b[38;5;28;01melse\u001b[39;00m:\n\u001b[0;32m   2164\u001b[0m     \u001b[38;5;28;01mreturn\u001b[39;00m (\u001b[38;5;28mself\u001b[39m[n] \u001b[38;5;28;01mfor\u001b[39;00m n \u001b[38;5;129;01min\u001b[39;00m \u001b[38;5;28mrange\u001b[39m(\u001b[38;5;28mlen\u001b[39m(\u001b[38;5;28mself\u001b[39m)))\n",
      "File \u001b[1;32mD:\\Users\\calan\\anaconda3\\Lib\\site-packages\\pandas\\core\\arrays\\categorical.py:1872\u001b[0m, in \u001b[0;36mCategorical._internal_get_values\u001b[1;34m(self)\u001b[0m\n\u001b[0;32m   1866\u001b[0m \u001b[38;5;28;01melif\u001b[39;00m is_integer_dtype(\u001b[38;5;28mself\u001b[39m\u001b[38;5;241m.\u001b[39mcategories\u001b[38;5;241m.\u001b[39mdtype) \u001b[38;5;129;01mand\u001b[39;00m \u001b[38;5;241m-\u001b[39m\u001b[38;5;241m1\u001b[39m \u001b[38;5;129;01min\u001b[39;00m \u001b[38;5;28mself\u001b[39m\u001b[38;5;241m.\u001b[39m_codes:\n\u001b[0;32m   1867\u001b[0m     \u001b[38;5;28;01mreturn\u001b[39;00m (\n\u001b[0;32m   1868\u001b[0m         \u001b[38;5;28mself\u001b[39m\u001b[38;5;241m.\u001b[39mcategories\u001b[38;5;241m.\u001b[39mastype(\u001b[38;5;124m\"\u001b[39m\u001b[38;5;124mobject\u001b[39m\u001b[38;5;124m\"\u001b[39m)\n\u001b[0;32m   1869\u001b[0m         \u001b[38;5;241m.\u001b[39mtake(\u001b[38;5;28mself\u001b[39m\u001b[38;5;241m.\u001b[39m_codes, fill_value\u001b[38;5;241m=\u001b[39mnp\u001b[38;5;241m.\u001b[39mnan)\n\u001b[0;32m   1870\u001b[0m         \u001b[38;5;241m.\u001b[39m_values\n\u001b[0;32m   1871\u001b[0m     )\n\u001b[1;32m-> 1872\u001b[0m \u001b[38;5;28;01mreturn\u001b[39;00m np\u001b[38;5;241m.\u001b[39marray(\u001b[38;5;28mself\u001b[39m)\n",
      "File \u001b[1;32mD:\\Users\\calan\\anaconda3\\Lib\\site-packages\\pandas\\core\\arrays\\_mixins.py:81\u001b[0m, in \u001b[0;36mravel_compat.<locals>.method\u001b[1;34m(self, *args, **kwargs)\u001b[0m\n\u001b[0;32m     78\u001b[0m \u001b[38;5;129m@wraps\u001b[39m(meth)\n\u001b[0;32m     79\u001b[0m \u001b[38;5;28;01mdef\u001b[39;00m\u001b[38;5;250m \u001b[39m\u001b[38;5;21mmethod\u001b[39m(\u001b[38;5;28mself\u001b[39m, \u001b[38;5;241m*\u001b[39margs, \u001b[38;5;241m*\u001b[39m\u001b[38;5;241m*\u001b[39mkwargs):\n\u001b[0;32m     80\u001b[0m     \u001b[38;5;28;01mif\u001b[39;00m \u001b[38;5;28mself\u001b[39m\u001b[38;5;241m.\u001b[39mndim \u001b[38;5;241m==\u001b[39m \u001b[38;5;241m1\u001b[39m:\n\u001b[1;32m---> 81\u001b[0m         \u001b[38;5;28;01mreturn\u001b[39;00m meth(\u001b[38;5;28mself\u001b[39m, \u001b[38;5;241m*\u001b[39margs, \u001b[38;5;241m*\u001b[39m\u001b[38;5;241m*\u001b[39mkwargs)\n\u001b[0;32m     83\u001b[0m     flags \u001b[38;5;241m=\u001b[39m \u001b[38;5;28mself\u001b[39m\u001b[38;5;241m.\u001b[39m_ndarray\u001b[38;5;241m.\u001b[39mflags\n\u001b[0;32m     84\u001b[0m     flat \u001b[38;5;241m=\u001b[39m \u001b[38;5;28mself\u001b[39m\u001b[38;5;241m.\u001b[39mravel(\u001b[38;5;124m\"\u001b[39m\u001b[38;5;124mK\u001b[39m\u001b[38;5;124m\"\u001b[39m)\n",
      "File \u001b[1;32mD:\\Users\\calan\\anaconda3\\Lib\\site-packages\\pandas\\core\\arrays\\categorical.py:1662\u001b[0m, in \u001b[0;36mCategorical.__array__\u001b[1;34m(self, dtype, copy)\u001b[0m\n\u001b[0;32m   1638\u001b[0m \u001b[38;5;129m@ravel_compat\u001b[39m\n\u001b[0;32m   1639\u001b[0m \u001b[38;5;28;01mdef\u001b[39;00m\u001b[38;5;250m \u001b[39m\u001b[38;5;21m__array__\u001b[39m(\n\u001b[0;32m   1640\u001b[0m     \u001b[38;5;28mself\u001b[39m, dtype: NpDtype \u001b[38;5;241m|\u001b[39m \u001b[38;5;28;01mNone\u001b[39;00m \u001b[38;5;241m=\u001b[39m \u001b[38;5;28;01mNone\u001b[39;00m, copy: \u001b[38;5;28mbool\u001b[39m \u001b[38;5;241m|\u001b[39m \u001b[38;5;28;01mNone\u001b[39;00m \u001b[38;5;241m=\u001b[39m \u001b[38;5;28;01mNone\u001b[39;00m\n\u001b[0;32m   1641\u001b[0m ) \u001b[38;5;241m-\u001b[39m\u001b[38;5;241m>\u001b[39m np\u001b[38;5;241m.\u001b[39mndarray:\n\u001b[0;32m   1642\u001b[0m \u001b[38;5;250m    \u001b[39m\u001b[38;5;124;03m\"\"\"\u001b[39;00m\n\u001b[0;32m   1643\u001b[0m \u001b[38;5;124;03m    The numpy array interface.\u001b[39;00m\n\u001b[0;32m   1644\u001b[0m \n\u001b[1;32m   (...)\u001b[0m\n\u001b[0;32m   1660\u001b[0m \u001b[38;5;124;03m    array(['a', 'b'], dtype=object)\u001b[39;00m\n\u001b[0;32m   1661\u001b[0m \u001b[38;5;124;03m    \"\"\"\u001b[39;00m\n\u001b[1;32m-> 1662\u001b[0m     ret \u001b[38;5;241m=\u001b[39m take_nd(\u001b[38;5;28mself\u001b[39m\u001b[38;5;241m.\u001b[39mcategories\u001b[38;5;241m.\u001b[39m_values, \u001b[38;5;28mself\u001b[39m\u001b[38;5;241m.\u001b[39m_codes)\n\u001b[0;32m   1663\u001b[0m     \u001b[38;5;28;01mif\u001b[39;00m dtype \u001b[38;5;129;01mand\u001b[39;00m np\u001b[38;5;241m.\u001b[39mdtype(dtype) \u001b[38;5;241m!=\u001b[39m \u001b[38;5;28mself\u001b[39m\u001b[38;5;241m.\u001b[39mcategories\u001b[38;5;241m.\u001b[39mdtype:\n\u001b[0;32m   1664\u001b[0m         \u001b[38;5;28;01mreturn\u001b[39;00m np\u001b[38;5;241m.\u001b[39masarray(ret, dtype)\n",
      "File \u001b[1;32mD:\\Users\\calan\\anaconda3\\Lib\\site-packages\\pandas\\core\\array_algos\\take.py:117\u001b[0m, in \u001b[0;36mtake_nd\u001b[1;34m(arr, indexer, axis, fill_value, allow_fill)\u001b[0m\n\u001b[0;32m    114\u001b[0m     \u001b[38;5;28;01mreturn\u001b[39;00m arr\u001b[38;5;241m.\u001b[39mtake(indexer, fill_value\u001b[38;5;241m=\u001b[39mfill_value, allow_fill\u001b[38;5;241m=\u001b[39mallow_fill)\n\u001b[0;32m    116\u001b[0m arr \u001b[38;5;241m=\u001b[39m np\u001b[38;5;241m.\u001b[39masarray(arr)\n\u001b[1;32m--> 117\u001b[0m \u001b[38;5;28;01mreturn\u001b[39;00m _take_nd_ndarray(arr, indexer, axis, fill_value, allow_fill)\n",
      "File \u001b[1;32mD:\\Users\\calan\\anaconda3\\Lib\\site-packages\\pandas\\core\\array_algos\\take.py:155\u001b[0m, in \u001b[0;36m_take_nd_ndarray\u001b[1;34m(arr, indexer, axis, fill_value, allow_fill)\u001b[0m\n\u001b[0;32m    149\u001b[0m out_shape \u001b[38;5;241m=\u001b[39m \u001b[38;5;28mtuple\u001b[39m(out_shape_)\n\u001b[0;32m    150\u001b[0m \u001b[38;5;28;01mif\u001b[39;00m arr\u001b[38;5;241m.\u001b[39mflags\u001b[38;5;241m.\u001b[39mf_contiguous \u001b[38;5;129;01mand\u001b[39;00m axis \u001b[38;5;241m==\u001b[39m arr\u001b[38;5;241m.\u001b[39mndim \u001b[38;5;241m-\u001b[39m \u001b[38;5;241m1\u001b[39m:\n\u001b[0;32m    151\u001b[0m     \u001b[38;5;66;03m# minor tweak that can make an order-of-magnitude difference\u001b[39;00m\n\u001b[0;32m    152\u001b[0m     \u001b[38;5;66;03m# for dataframes initialized directly from 2-d ndarrays\u001b[39;00m\n\u001b[0;32m    153\u001b[0m     \u001b[38;5;66;03m# (s.t. df.values is c-contiguous and df._mgr.blocks[0] is its\u001b[39;00m\n\u001b[0;32m    154\u001b[0m     \u001b[38;5;66;03m# f-contiguous transpose)\u001b[39;00m\n\u001b[1;32m--> 155\u001b[0m     out \u001b[38;5;241m=\u001b[39m np\u001b[38;5;241m.\u001b[39mempty(out_shape, dtype\u001b[38;5;241m=\u001b[39mdtype, order\u001b[38;5;241m=\u001b[39m\u001b[38;5;124m\"\u001b[39m\u001b[38;5;124mF\u001b[39m\u001b[38;5;124m\"\u001b[39m)\n\u001b[0;32m    156\u001b[0m \u001b[38;5;28;01melse\u001b[39;00m:\n\u001b[0;32m    157\u001b[0m     out \u001b[38;5;241m=\u001b[39m np\u001b[38;5;241m.\u001b[39mempty(out_shape, dtype\u001b[38;5;241m=\u001b[39mdtype)\n",
      "\u001b[1;31mMemoryError\u001b[0m: Unable to allocate 153. MiB for an array with shape (20000263,) and data type object"
     ]
    }
   ],
   "source": [
    "\n",
    "import pandas as pd\n",
    "from collections import defaultdict\n",
    "import matplotlib.pyplot as plt\n",
    "\n",
    "# --- Step 1: Define genres list ---\n",
    "genres_list = [\n",
    "    'Action', 'Adventure', 'Animation', 'Children', 'Comedy', 'Crime',\n",
    "    'Documentary', 'Drama', 'Fantasy', 'Film-Noir', 'Horror', 'IMAX',\n",
    "    'Musical', 'Mystery', 'Romance', 'Sci-Fi', 'Thriller', 'War', 'Western'\n",
    "]\n",
    "\n",
    "# --- Step 2: Global count storage ---\n",
    "genre_counts = {genre: 0 for genre in genres_list}\n",
    "genre_rating_counts = {genre: defaultdict(int) for genre in genres_list}\n",
    "\n",
    "# --- Step 3: Process in memory-safe chunks ---\n",
    "chunk_size = 100_000\n",
    "num_chunks = (len(df) // chunk_size) + 1\n",
    "\n",
    "for i in range(num_chunks):\n",
    "    chunk = df.iloc[i * chunk_size : (i + 1) * chunk_size]\n",
    "    \n",
    "    for idx, row in chunk.iterrows():\n",
    "        genres = row.get('genres')\n",
    "        rating_cat = row.get('rating_category')\n",
    "        \n",
    "        if pd.isna(genres) or pd.isna(rating_cat):\n",
    "            continue\n",
    "        \n",
    "        for g in genres.split('|'):\n",
    "            if g in genres_list:\n",
    "                genre_counts[g] += 1\n",
    "                genre_rating_counts[g][rating_cat] += 1\n",
    "\n",
    "# --- Step 4: Get Top 10 Genres ---\n",
    "sorted_genres = sorted(genre_counts.items(), key=lambda x: x[1], reverse=True)\n",
    "top_10_genres = [g for g, _ in sorted_genres[:10]]\n",
    "\n",
    "# --- Step 5: Prepare DataFrame for plotting ---\n",
    "plot_data = {}\n",
    "for genre in top_10_genres:\n",
    "    plot_data[genre] = genre_rating_counts[genre]\n",
    "\n",
    "rating_df = pd.DataFrame(plot_data).fillna(0)\n",
    "\n",
    "# --- Step 6: Plot ---\n",
    "rating_df.T.plot(kind='bar', stacked=True, figsize=(12, 6))\n",
    "plt.title(\"Rating Category Distribution Across Top 10 Genres\")\n",
    "plt.xlabel(\"Genre\")\n",
    "plt.ylabel(\"Number of Movies\")\n",
    "plt.xticks(rotation=45)\n",
    "plt.legend(title='Rating Category')\n",
    "plt.tight_layout()\n",
    "plt.show()\n"
   ]
  }
 ],
 "metadata": {
  "kernelspec": {
   "display_name": "Python 3 (ipykernel)",
   "language": "python",
   "name": "python3"
  },
  "language_info": {
   "codemirror_mode": {
    "name": "ipython",
    "version": 3
   },
   "file_extension": ".py",
   "mimetype": "text/x-python",
   "name": "python",
   "nbconvert_exporter": "python",
   "pygments_lexer": "ipython3",
   "version": "3.13.5"
  }
 },
 "nbformat": 4,
 "nbformat_minor": 5
}
